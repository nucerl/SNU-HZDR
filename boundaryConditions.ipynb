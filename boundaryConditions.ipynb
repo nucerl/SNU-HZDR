{
 "cells": [
  {
   "attachments": {},
   "cell_type": "markdown",
   "metadata": {},
   "source": [
    "# HZDR-SNU Joint Paper"
   ]
  },
  {
   "attachments": {},
   "cell_type": "markdown",
   "metadata": {},
   "source": [
    "## Flowchart"
   ]
  },
  {
   "attachments": {},
   "cell_type": "markdown",
   "metadata": {},
   "source": [
    "<figure style=\"text-align:center;\">\n",
    "  <img src=\"https://cdn.mathpix.com/snip/images/J4E4BXvTYDJo1E3YQRyxQO_Ib_2lO0RpeCgOaHFnGLs.original.fullsize.png\" alt=\"Code Flowchart\" style=\"width:50%; height:50%;\">\n",
    "  <figcaption> Figure 1. Code Flowchart</figcaption>\n",
    "</figure>"
   ]
  },
  {
   "attachments": {},
   "cell_type": "markdown",
   "metadata": {},
   "source": [
    "## Code"
   ]
  },
  {
   "cell_type": "code",
   "execution_count": null,
   "metadata": {},
   "outputs": [],
   "source": [
    "'''\n",
    "Date: 2023.02.24\n",
    "Prepared by: Erol Bicer - SNU (ebicer@fnctech.com)\n",
    "Description: Initially, the code employs the pipe flow correlation to obtain \n",
    "an approximate value for Turbulent Intensity (Ti). Then, it iteratively \n",
    "computes the Ti until the turbulent viscosity equals the molecular viscosity. \n",
    "Subsequently, the calculated Ti is incremented and decremented to determine \n",
    "the inlet k and epsilon.\n",
    "'''\n",
    "\n",
    "import math\n",
    "\n",
    "# Given parameters\n",
    "Lc = 0.01  # characteristic length scale\n",
    "nu = 1.51114e-05  # molecular viscosity\n",
    "U = 6.37  # mean velocity\n",
    "Lm = 0.07 * Lc  # turbulent length scale\n",
    "Cmu = 0.09  # turbulence model constant\n",
    "\n",
    "# Calculate the initial guess for Ti\n",
    "Re = U * Lc / nu\n",
    "Ti_guess = 0.16 * math.pow(Re, -1/8)\n",
    "\n",
    "# Set the maximum number of iterations and the tolerance level\n",
    "max_iter = 1000\n",
    "tolerance = 1e-9\n",
    "\n",
    "# Iterative approach to find Ti that satisfies nut = nu\n",
    "for i in range(max_iter):\n",
    "    kin = (3/2) * math.pow(U * Ti_guess, 2)\n",
    "    epsin = math.pow(Cmu, 3/4) * math.pow(kin, 3/2) / Lm\n",
    "    nut = Cmu * math.pow(kin, 2) / epsin\n",
    "\n",
    "    if abs(nut - nu) < tolerance:\n",
    "        print(f\"Converged in {i} iterations.\\n\")\n",
    "        break\n",
    "\n",
    "    if i == max_iter - 1:\n",
    "        print(\"Max iterations exceeded.\\n\")\n",
    "\n",
    "    if nut > nu:\n",
    "        Ti_guess -= 0.1 * Ti_guess\n",
    "    else:\n",
    "        Ti_guess += 0.1 * Ti_guess\n",
    "\n",
    "# Output the results for the initial Ti value\n",
    "print(\"Results when Turbulent Viscosity is Equal to Molecular Viscosity:\")\n",
    "print(f\"{'-'*80}\")\n",
    "print(f\"Turbulent Viscosity (nut):               {nut:.5e}\")\n",
    "print(f\"Molecular Viscosity (nu):                {nu:.5e}\")\n",
    "\n",
    "print(f\"Turbulent Intensity (Ti):                {Ti_guess:.6f} (~ {Ti_guess*100:.2f}%)\")\n",
    "print(f\"Inlet Turbulent Kinetic Energy (kin):    {kin:.6e}\")\n",
    "print(f\"Inlet Energy Dissipation (epsin):        {epsin:.6e}\")\n",
    "print(f\"{'-'*80}\\n\")\n",
    "\n",
    "# Output the results\n",
    "print(\"Simulation Matrix based on Turbulent Intensity Change:\")\n",
    "print(f\"{'-'*80}\")\n",
    "print(f\"{'Change':<15} {'Ti':<15} {'kin':<16} {'epsin':<18} {'nut':<15}\")\n",
    "print(f\"{'-'*80}\")\n",
    "for percent_change in range(99, -108, -9):\n",
    "    Ti = Ti_guess * (1 + percent_change/100)\n",
    "    kin = (3/2) * math.pow(U * Ti, 2)\n",
    "    epsin = math.pow(Cmu, 3/4) * math.pow(kin, 3/2) / Lm\n",
    "    nut = Cmu * math.pow(kin, 2) / epsin\n",
    "    print(f\"{percent_change:>4}% {Ti:>15.6f} {kin:>17.5e} {epsin:>17.5e} {nut:>17.5e}\")\n",
    "print(f\"{'-'*80}\")\n"
   ]
  }
 ],
 "metadata": {
  "kernelspec": {
   "display_name": "base",
   "language": "python",
   "name": "python3"
  },
  "language_info": {
   "codemirror_mode": {
    "name": "ipython",
    "version": 3
   },
   "file_extension": ".py",
   "mimetype": "text/x-python",
   "name": "python",
   "nbconvert_exporter": "python",
   "pygments_lexer": "ipython3",
   "version": "3.9.13"
  },
  "orig_nbformat": 4,
  "vscode": {
   "interpreter": {
    "hash": "ad2bdc8ecc057115af97d19610ffacc2b4e99fae6737bb82f5d7fb13d2f2c186"
   }
  }
 },
 "nbformat": 4,
 "nbformat_minor": 2
}
