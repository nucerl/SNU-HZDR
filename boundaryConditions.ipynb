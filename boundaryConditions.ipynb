{
 "cells": [
  {
   "cell_type": "code",
   "execution_count": 23,
   "metadata": {},
   "outputs": [
    {
     "name": "stdout",
     "output_type": "stream",
     "text": [
      "Mixing Length (Lm): 7.00e-04\n",
      "Reynolds Number (Re): 4.215e+03\n",
      "Turbulent Intensity (Ti): 5.64e-02\n",
      "Inlet Turbulent Kinetic Energy (kin): 1.934e-01\n",
      "Inlet Energy Dissipation (Epsin): 1.996e+01\n",
      "\n",
      "\n",
      "Turbulent Moleculer Viscosity (nu): 1.511e-05\n",
      "Turbulent Kinematic Viscosity (nut): 1.686e-04\n",
      "\n",
      "\n",
      "Turbulent Kinematic Viscosity (nut) is 11.16 times larger than Molecular Kinematic Viscosity (nu)\n"
     ]
    }
   ],
   "source": [
    "import math\n",
    "\n",
    "\n",
    "# User Input\n",
    "\n",
    "#Lc = float(input(\"Enter Characteristic Length, Lc: \"))\n",
    "#nu = float(input(\"Enter Molecular Kinematic Viscosity, nu: \"))\n",
    "#U = float(input(\"Enter Inlet Velocity, U: \"))\n",
    "\n",
    "\n",
    "# User Input\n",
    "Lc = 0.01\n",
    "nu = 1.51114e-05\n",
    "U = 6.37 #inlet velocity\n",
    "\n",
    "# Constants\n",
    "Cmu = 0.09\n",
    "\n",
    "# Calculations\n",
    "Lm = 0.07 * Lc\n",
    "Re = U * Lc / nu\n",
    "Ti = 0.16 * math.pow(Re, -1/8)\n",
    "kin = (3/2) * math.pow(U * Ti, 2)\n",
    "Epsin = math.pow(Cmu,3/4) * math.pow(kin, 3/2) / Lm\n",
    "nut = Cmu * math.pow(kin, 2) / Epsin\n",
    "\n",
    "# Calculation of percentage difference\n",
    "num_diff = nut / nu\n",
    "\n",
    "# Printing Results\n",
    "print(f\"Mixing Length (Lm): {Lm:.2e}\")\n",
    "print(f\"Reynolds Number (Re): {Re:.3e}\")\n",
    "print(f\"Turbulent Intensity (Ti): {Ti:.2e}\")\n",
    "print(f\"Inlet Turbulent Kinetic Energy (kin): {kin:.3e}\")\n",
    "print(f\"Inlet Energy Dissipation (Epsin): {Epsin:.3e}\")\n",
    "\n",
    "print('\\n')\n",
    "\n",
    "print(f\"Turbulent Moleculer Viscosity (nu): {nu:.3e}\")\n",
    "print(f\"Turbulent Kinematic Viscosity (nut): {nut:.3e}\")\n",
    "\n",
    "print('\\n')\n",
    "\n",
    "# Compare nut and nu\n",
    "if nut > nu:\n",
    "    print(f\"Turbulent Kinematic Viscosity (nut) is {num_diff:.2f} times larger than Molecular Kinematic Viscosity (nu)\")\n",
    "elif nut < nu:\n",
    "    print(f\"Turbulent Kinematic Viscosity (nut) is {num_diff:.2f} times smaller than Molecular Kinematic Viscosity (nu)\")\n",
    "else:\n",
    "    print(\"Turbulent Kinematic Viscosity (nut) is equal to Molecular Kinematic Viscosity (nu)\")\n",
    "\n",
    "\n",
    "\n"
   ]
  }
 ],
 "metadata": {
  "kernelspec": {
   "display_name": "base",
   "language": "python",
   "name": "python3"
  },
  "language_info": {
   "codemirror_mode": {
    "name": "ipython",
    "version": 3
   },
   "file_extension": ".py",
   "mimetype": "text/x-python",
   "name": "python",
   "nbconvert_exporter": "python",
   "pygments_lexer": "ipython3",
   "version": "3.9.13"
  },
  "orig_nbformat": 4,
  "vscode": {
   "interpreter": {
    "hash": "ad2bdc8ecc057115af97d19610ffacc2b4e99fae6737bb82f5d7fb13d2f2c186"
   }
  }
 },
 "nbformat": 4,
 "nbformat_minor": 2
}
